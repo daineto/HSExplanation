{
 "cells": [
  {
   "cell_type": "code",
   "execution_count": 12,
   "id": "466514ec",
   "metadata": {},
   "outputs": [],
   "source": [
    "folder = \"benchmarks/platoon/results\"\n",
    "\n",
    "approaches = [\"dreach\", \"upm\", \"upm_e\", \"enhsp\", \"enhsp_e_001\", \"enhsp_e_01\"]\n",
    "horizons = [2, 4, 6, 8, 10 , 20, 30, 40, 50, 60, 70, 80, 90, 100]"
   ]
  },
  {
   "cell_type": "markdown",
   "id": "f80a1ba2",
   "metadata": {},
   "source": [
    "## Read results "
   ]
  },
  {
   "cell_type": "code",
   "execution_count": 13,
   "id": "2784b20d",
   "metadata": {},
   "outputs": [],
   "source": [
    "results = { app: {h:[] for h in horizons} for app in approaches}\n",
    "\n",
    "for app in approaches:\n",
    "    with open(\"{}/{}\".format(folder, app), \"r\") as f:\n",
    "        for h in horizons:\n",
    "            app_results = f.readline()\n",
    "            app_results = list(map(float,app_results.split()))\n",
    "            results[app][h] = app_results\n",
    "        \n"
   ]
  },
  {
   "cell_type": "markdown",
   "id": "c177ce7e",
   "metadata": {},
   "source": [
    "## Generate Summary CSV"
   ]
  },
  {
   "cell_type": "code",
   "execution_count": 14,
   "id": "8f2e715b",
   "metadata": {},
   "outputs": [],
   "source": [
    "runtime = open(\"{}/runtime.csv\".format(folder), \"w\")\n",
    "coverage = open(\"{}/coverage.csv\".format(folder), \"w\")\n",
    "\n",
    "for h in horizons:\n",
    "    runtime_line = []\n",
    "    coverage_line = []\n",
    "    for app in approaches:\n",
    "        if len(results[app][h]) > 0:\n",
    "            runtime_line += [sum(results[app][h])/len(results[app][h])]\n",
    "        else:\n",
    "            runtime_line += [0]\n",
    "        coverage_line += [len(results[app][h])]\n",
    "        \n",
    "    runtime.write(\", \".join(map(str, runtime_line)))\n",
    "    runtime.write(\"\\n\")\n",
    "    coverage.write(\", \".join(map(str, coverage_line)))\n",
    "    coverage.write(\"\\n\")\n",
    "    \n",
    "runtime.close()\n",
    "coverage.close()"
   ]
  },
  {
   "cell_type": "markdown",
   "id": "7bf2a070",
   "metadata": {},
   "source": [
    "## Generate Table"
   ]
  },
  {
   "cell_type": "code",
   "execution_count": 15,
   "id": "2a113ba6",
   "metadata": {},
   "outputs": [],
   "source": [
    "column_names = {\"dreach\": \"\\\\textsc{dReach}\", \"upm\": \"\\\\textsc{UPMurphi}$_a^{0.01}$\", \"upm_e\": \"\\\\textsc{UPMurphi}$_e^{0.01}$\", \"enhsp\": \"ENHSP$_a^{0.01}$\", \"enhsp_e_001\": \"ENHSP$_e^{0.01}$\", \"enhsp_e_01\": \"ENHSP$_e^{0.1}$\"}\n",
    "\n",
    "table_tex = \"Size & {} \\\\\\\\\\n\".format(\" & \".join(column_names.values()))\n",
    "\n",
    "for h in horizons:\n",
    "    h_line = []\n",
    "    for app in approaches:\n",
    "        coverage = len(results[app][h])\n",
    "        if coverage > 0:\n",
    "            avg_runtime = sum(results[app][h])/coverage\n",
    "            h_line += [\"{} ({})\".format(coverage, round(avg_runtime, 2))]\n",
    "        else:\n",
    "            h_line += [\"0\"]\n",
    "        \n",
    "    table_tex += \"{} & {} \\\\\\\\\\n\".format(h, \" & \".join(h_line))\n"
   ]
  },
  {
   "cell_type": "code",
   "execution_count": 16,
   "id": "845bdc2b",
   "metadata": {},
   "outputs": [
    {
     "name": "stdout",
     "output_type": "stream",
     "text": [
      "Size & \\textsc{dReach} & \\textsc{UPMurphi}$_a^{0.01}$ & \\textsc{UPMurphi}$_e^{0.01}$ & ENHSP$_a^{0.01}$ & ENHSP$_e^{0.01}$ & ENHSP$_e^{0.1}$ \\\\\n",
      "2 & 0 & 0 & 0 & 10 (0.65) & 10 (0.84) & 10 (0.25) \\\\\n",
      "4 & 0 & 0 & 0 & 10 (0.45) & 10 (0.29) & 10 (0.26) \\\\\n",
      "6 & 0 & 0 & 0 & 10 (0.32) & 10 (0.33) & 10 (0.28) \\\\\n",
      "8 & 0 & 0 & 0 & 10 (0.42) & 10 (0.35) & 10 (0.28) \\\\\n",
      "10 & 0 & 0 & 0 & 10 (4.38) & 10 (0.38) & 10 (0.33) \\\\\n",
      "20 & 0 & 0 & 0 & 10 (3.93) & 10 (0.64) & 10 (0.41) \\\\\n",
      "30 & 0 & 0 & 0 & 9 (60.59) & 10 (0.99) & 10 (0.54) \\\\\n",
      "40 & 0 & 0 & 0 & 2 (156.76) & 10 (2.5) & 10 (0.65) \\\\\n",
      "50 & 0 & 0 & 0 & 0 & 10 (3.62) & 10 (0.76) \\\\\n",
      "60 & 0 & 0 & 0 & 0 & 10 (8.65) & 10 (0.89) \\\\\n",
      "70 & 0 & 0 & 0 & 0 & 10 (7.16) & 10 (1.16) \\\\\n",
      "80 & 0 & 0 & 0 & 0 & 10 (8.75) & 10 (1.24) \\\\\n",
      "90 & 0 & 0 & 0 & 0 & 10 (22.53) & 10 (1.38) \\\\\n",
      "100 & 0 & 0 & 0 & 0 & 10 (18.15) & 10 (1.62) \\\\\n",
      "\n"
     ]
    }
   ],
   "source": [
    "print(table_tex)"
   ]
  }
 ],
 "metadata": {
  "kernelspec": {
   "display_name": "hybrid_decoding",
   "language": "python",
   "name": "python3"
  },
  "language_info": {
   "codemirror_mode": {
    "name": "ipython",
    "version": 3
   },
   "file_extension": ".py",
   "mimetype": "text/x-python",
   "name": "python",
   "nbconvert_exporter": "python",
   "pygments_lexer": "ipython3",
   "version": "3.10.12"
  }
 },
 "nbformat": 4,
 "nbformat_minor": 5
}
