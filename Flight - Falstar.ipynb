{
 "cells": [
  {
   "cell_type": "code",
   "execution_count": null,
   "id": "5107e8a2",
   "metadata": {},
   "outputs": [],
   "source": [
    "import numpy as np\n",
    "import time\n",
    "import pickle\n",
    "import json\n",
    "\n",
    "import math\n",
    "from random import random, randint, uniform\n",
    "\n",
    "import os\n",
    "import shutil\n",
    "\n",
    "from statistics import median"
   ]
  },
  {
   "cell_type": "code",
   "execution_count": null,
   "id": "1133e937",
   "metadata": {},
   "outputs": [],
   "source": [
    "def generate_falstar_problem(observations, theta, v, radius=10): \n",
    "    \n",
    "    f_str = \"(define-system F\\n\"\n",
    "    f_str += \"\\t(simulink \\\"flight_2018.slx\\\")\\n\"\n",
    "    f_str += \"\\t(parameters simTime v init_theta)\\n\"\n",
    "    f_str += \"\\t(inputs  w)\\n\"\n",
    "    f_str += \"\\t(outputs x y)\\n\"\n",
    "    f_str += \"\\t(piecewise-constant w -0.31415927 0.31415927)\\n\"\n",
    "    f_str += \"\\t(constant simTime 100)\\n\"\n",
    "    f_str += \"\\t(constant v {})\\n\".format(v)\n",
    "    f_str += \"\\t(constant init_theta {})\\n\".format(theta)\n",
    "    f_str += \"\\t)\\n\\n\"\n",
    "    \n",
    "    f_str += \"(define radius {})\\n\\n\".format(radius)\n",
    "    \n",
    "    for i in range(len(observations)):\n",
    "        obs = observations[i]\n",
    "        f_str += \"(define cx{} {})\\n\".format(i+1, obs[0])\n",
    "        f_str += \"(define cy{} {})\\n\\n\".format(i+1, obs[1])\n",
    "        \n",
    "    f_str += \"(define observation (cx cy)\\n\"\n",
    "    f_str += \"\\t(< (+ (* (- x cx) (- x cx)) (* (- y cy) (- y cy))) (* radius radius)))\\n\\n\"\n",
    "    \n",
    "    f_str += \"(define seq\\n\"\n",
    "    f_str += \"\\t(and {}))\\n\\n\".format(\" \".join([\"(eventually (0 {}) (observation cx{} cy{}))\".format(i+0.4, i, i) for i in range(1,len(observations)+1)]))\n",
    "    \n",
    "    \n",
    "    f_str += \"(set-seed   23)\\n\"\n",
    "    f_str += \"(set-repeat 10)\\n\"\n",
    "    f_str += \"(define N 1000)\\n\\n\"\n",
    "\n",
    "    f_str += \"(select-system F)\\n\"\n",
    "    f_str += \"(set-log \\\"benchmarks/flight/falstar/flight.csv\\\")\\n\"\n",
    "    f_str += \"(set-report \\\"benchmarks/flight/falstar/summary.csv\\\")\\n\\n\"\n",
    "\n",
    "    num_control_points = int(len(observations)/2*5 + 1)\n",
    "    f_str += \"(set-solver adaptive ({} {}) 0.25 N)\\n\".format(num_control_points, num_control_points)\n",
    "\n",
    "    f_str += \"(falsify (not seq))\"\n",
    "    \n",
    "    return f_str"
   ]
  },
  {
   "cell_type": "code",
   "execution_count": null,
   "id": "9b258d15",
   "metadata": {
    "scrolled": true
   },
   "outputs": [],
   "source": [
    "num_instances = 10\n",
    "horizons = [2, 4, 6, 8, 10, 20, 30, 40, 50, 60, 70, 80, 90, 100]\n",
    "clean_start = True\n",
    "\n",
    "dfolder = \"benchmarks/flight/falstar\"\n",
    "if clean_start:\n",
    "    if os.path.exists(dfolder):\n",
    "        shutil.rmtree(dfolder)\n",
    "    os.makedirs(dfolder)\n",
    "\n",
    "with open(\"flight.pkl\", \"rb\") as f:\n",
    "    instances = pickle.load(f)\n",
    "    \n",
    "for h in horizons:\n",
    "    \n",
    "    for pnum in range(num_instances):\n",
    "        \n",
    "        pname = 'flight_{pnum}_{h}.cfg'.format(pnum=pnum, h=h)      \n",
    "\n",
    "        problem_str = generate_falstar_problem(instances[pnum][\"observations\"][:h], instances[pnum][\"init_theta\"], instances[pnum][\"init_v\"])\n",
    "        with open(dfolder + '/' + pname, 'w') as f:\n",
    "            f.write(problem_str)"
   ]
  },
  {
   "cell_type": "code",
   "execution_count": null,
   "id": "bee9d74c",
   "metadata": {},
   "outputs": [],
   "source": [
    "for h in horizons:\n",
    "    \n",
    "    for pnum in range(num_instances):\n",
    "        \n",
    "        pname = 'flight_{pnum}_{h}.cfg'.format(pnum=pnum, h=h)\n",
    "        cmd = \"falstar \" + dfolder + '/' + pname\n",
    "        os.system(cmd)"
   ]
  }
 ],
 "metadata": {
  "kernelspec": {
   "display_name": "hybrid_decoding",
   "language": "python",
   "name": "hybrid_decoding"
  },
  "language_info": {
   "codemirror_mode": {
    "name": "ipython",
    "version": 3
   },
   "file_extension": ".py",
   "mimetype": "text/x-python",
   "name": "python",
   "nbconvert_exporter": "python",
   "pygments_lexer": "ipython3",
   "version": "3.10.6"
  }
 },
 "nbformat": 4,
 "nbformat_minor": 5
}
